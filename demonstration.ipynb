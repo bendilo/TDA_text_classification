{
 "cells": [
  {
   "cell_type": "code",
   "execution_count": 1,
   "id": "062bc2c1",
   "metadata": {},
   "outputs": [
    {
     "name": "stdout",
     "output_type": "stream",
     "text": [
      "Loading GloVe model\n",
      "GloVe model loaded successfully\n"
     ]
    }
   ],
   "source": [
    "from main import *"
   ]
  },
  {
   "cell_type": "code",
   "execution_count": 2,
   "id": "2f8f7735",
   "metadata": {},
   "outputs": [],
   "source": [
    "import pandas as pd\n",
    "import numpy as np\n",
    "\n",
    "import xgboost as xgb\n",
    "from sklearn.feature_extraction.text import TfidfVectorizer\n",
    "from sklearn.pipeline import Pipeline\n",
    "from sklearn import svm\n",
    "from sklearn.ensemble import VotingClassifier\n",
    "from sklearn.model_selection import cross_val_score"
   ]
  },
  {
   "cell_type": "code",
   "execution_count": 3,
   "id": "df33d5e7",
   "metadata": {},
   "outputs": [],
   "source": [
    "df = pd.read_csv(\"datasets/essays.csv\")"
   ]
  },
  {
   "cell_type": "code",
   "execution_count": 8,
   "id": "a3ccc0f8",
   "metadata": {},
   "outputs": [
    {
     "data": {
      "text/html": [
       "<div>\n",
       "<style scoped>\n",
       "    .dataframe tbody tr th:only-of-type {\n",
       "        vertical-align: middle;\n",
       "    }\n",
       "\n",
       "    .dataframe tbody tr th {\n",
       "        vertical-align: top;\n",
       "    }\n",
       "\n",
       "    .dataframe thead th {\n",
       "        text-align: right;\n",
       "    }\n",
       "</style>\n",
       "<table border=\"1\" class=\"dataframe\">\n",
       "  <thead>\n",
       "    <tr style=\"text-align: right;\">\n",
       "      <th></th>\n",
       "      <th>text</th>\n",
       "      <th>filename</th>\n",
       "      <th>text_original</th>\n",
       "      <th>sentence_length</th>\n",
       "      <th>label</th>\n",
       "      <th>text_lemmatized</th>\n",
       "    </tr>\n",
       "  </thead>\n",
       "  <tbody>\n",
       "    <tr>\n",
       "      <th>0</th>\n",
       "      <td>asking students evaluate teachers useful tool ...</td>\n",
       "      <td>104.txt</td>\n",
       "      <td>Asking students to evaluate their teachers can...</td>\n",
       "      <td>15</td>\n",
       "      <td>1</td>\n",
       "      <td>asking student evaluate teacher useful tool im...</td>\n",
       "    </tr>\n",
       "    <tr>\n",
       "      <th>1</th>\n",
       "      <td>parents often considered best teachers first r...</td>\n",
       "      <td>3.txt</td>\n",
       "      <td>Parents are often considered the best teachers...</td>\n",
       "      <td>17</td>\n",
       "      <td>1</td>\n",
       "      <td>parent often considered best teacher first rol...</td>\n",
       "    </tr>\n",
       "    <tr>\n",
       "      <th>2</th>\n",
       "      <td>many reasons people work beyond need money liv...</td>\n",
       "      <td>50.txt</td>\n",
       "      <td>There are many reasons why people work beyond ...</td>\n",
       "      <td>14</td>\n",
       "      <td>1</td>\n",
       "      <td>many reason people work beyond need money live...</td>\n",
       "    </tr>\n",
       "    <tr>\n",
       "      <th>3</th>\n",
       "      <td>success life come combination taking risks car...</td>\n",
       "      <td>53.txt</td>\n",
       "      <td>Success in life can come from a combination of...</td>\n",
       "      <td>15</td>\n",
       "      <td>1</td>\n",
       "      <td>success life come combination taking risk care...</td>\n",
       "    </tr>\n",
       "    <tr>\n",
       "      <th>4</th>\n",
       "      <td>attending live performance really enjoyable wa...</td>\n",
       "      <td>36.txt</td>\n",
       "      <td>Attending a live performance is really more en...</td>\n",
       "      <td>28</td>\n",
       "      <td>0</td>\n",
       "      <td>attending live performance really enjoyable wa...</td>\n",
       "    </tr>\n",
       "  </tbody>\n",
       "</table>\n",
       "</div>"
      ],
      "text/plain": [
       "                                                text filename  \\\n",
       "0  asking students evaluate teachers useful tool ...  104.txt   \n",
       "1  parents often considered best teachers first r...    3.txt   \n",
       "2  many reasons people work beyond need money liv...   50.txt   \n",
       "3  success life come combination taking risks car...   53.txt   \n",
       "4  attending live performance really enjoyable wa...   36.txt   \n",
       "\n",
       "                                       text_original  sentence_length  label  \\\n",
       "0  Asking students to evaluate their teachers can...               15      1   \n",
       "1  Parents are often considered the best teachers...               17      1   \n",
       "2  There are many reasons why people work beyond ...               14      1   \n",
       "3  Success in life can come from a combination of...               15      1   \n",
       "4  Attending a live performance is really more en...               28      0   \n",
       "\n",
       "                                     text_lemmatized  \n",
       "0  asking student evaluate teacher useful tool im...  \n",
       "1  parent often considered best teacher first rol...  \n",
       "2  many reason people work beyond need money live...  \n",
       "3  success life come combination taking risk care...  \n",
       "4  attending live performance really enjoyable wa...  "
      ]
     },
     "execution_count": 8,
     "metadata": {},
     "output_type": "execute_result"
    }
   ],
   "source": [
    "df.head()"
   ]
  },
  {
   "cell_type": "code",
   "execution_count": 9,
   "id": "4ea00399",
   "metadata": {},
   "outputs": [],
   "source": [
    "tfidf_transformer = text_to_image_transformer(embedding=\"tfidf\",\n",
    "                                              algorithm =\"SIFTS\", \n",
    "                                              dimension =1,\n",
    "                                              sigma =.001,\n",
    "                                              grid_size= 100)\n",
    "glove_transformer = text_to_image_transformer(embedding =\"glove\",\n",
    "                                              algorithm =\"SIF\"  , \n",
    "                                              dimension =0, \n",
    "                                              sigma = .001, \n",
    "                                              grid_size = 100)\n",
    "\n",
    "tfidf_model = Pipeline([(\"persistence images\", tfidf_transformer), \n",
    "                        (\"classifier\",  svm.SVC(probability=True))])\n",
    "\n",
    "glove_model = Pipeline([(\"persistence images\", glove_transformer), \n",
    "                        (\"classifier\",  svm.SVC(probability=True))])\n",
    "\n",
    "xgboost_model = Pipeline([('tfidf features', TfidfVectorizer(ngram_range=(1,2),min_df=5)),\n",
    "                          ('classifier', xgb.XGBClassifier())])\n",
    "\n",
    "tfidf_xgboost_ensemble = Pipeline([['ensemble', \n",
    "                                    VotingClassifier(voting=\"soft\",\n",
    "                                                     estimators=[(\"tfidf\",tfidf_model), \n",
    "                                                               (\"xgboost\", xgboost_model)])]])"
   ]
  },
  {
   "cell_type": "code",
   "execution_count": 10,
   "id": "0ea7c4dc",
   "metadata": {},
   "outputs": [],
   "source": [
    "X = df[\"text_lemmatized\"].values\n",
    "y = df[\"label\"].values"
   ]
  },
  {
   "cell_type": "code",
   "execution_count": 11,
   "id": "41f3df17",
   "metadata": {},
   "outputs": [],
   "source": [
    "models = [tfidf_model,\n",
    "          glove_model,\n",
    "          xgboost_model,\n",
    "          tfidf_xgboost_ensemble]\n",
    "\n",
    "names = [\"TF-IDF\", \"GloVe\", \"XGBoost\", \"TF-IDF/XGBoost Ensemble\"]"
   ]
  },
  {
   "cell_type": "code",
   "execution_count": 12,
   "id": "af521047",
   "metadata": {
    "scrolled": false
   },
   "outputs": [
    {
     "name": "stdout",
     "output_type": "stream",
     "text": [
      "TF-IDF\n",
      "Scores: [0.804 0.863 0.88  0.8   0.88 ]\n",
      "Cross Validation accuracy: 0.845 +/- 0.036 \n",
      "\n",
      "GloVe\n",
      "Scores: [0.863 0.824 0.68  0.82  0.84 ]\n",
      "Cross Validation accuracy: 0.805 +/- 0.064 \n",
      "\n",
      "XGBoost\n",
      "Scores: [0.902 0.941 0.9   0.88  0.92 ]\n",
      "Cross Validation accuracy: 0.909 +/- 0.021 \n",
      "\n",
      "TF-IDF/XGBoost Ensemble\n",
      "Scores: [0.902 0.961 0.94  0.9   0.98 ]\n",
      "Cross Validation accuracy: 0.937 +/- 0.032 \n",
      "\n"
     ]
    }
   ],
   "source": [
    "for i in range(len(models)):\n",
    "    model = models[i]\n",
    "    name = names[i]\n",
    "    \n",
    "    print(name)\n",
    "    scores = cross_val_score(model, X=X, y=y, cv=5)\n",
    "    print(\"Scores:\", scores.round(3))\n",
    "    print('Cross Validation accuracy: %.3f +/- %.3f \\n' \n",
    "          % (np.mean(scores),np.std(scores)))"
   ]
  },
  {
   "cell_type": "code",
   "execution_count": null,
   "id": "9dd13be1",
   "metadata": {},
   "outputs": [],
   "source": []
  }
 ],
 "metadata": {
  "kernelspec": {
   "display_name": "Python 3 (ipykernel)",
   "language": "python",
   "name": "python3"
  },
  "language_info": {
   "codemirror_mode": {
    "name": "ipython",
    "version": 3
   },
   "file_extension": ".py",
   "mimetype": "text/x-python",
   "name": "python",
   "nbconvert_exporter": "python",
   "pygments_lexer": "ipython3",
   "version": "3.9.13"
  }
 },
 "nbformat": 4,
 "nbformat_minor": 5
}
